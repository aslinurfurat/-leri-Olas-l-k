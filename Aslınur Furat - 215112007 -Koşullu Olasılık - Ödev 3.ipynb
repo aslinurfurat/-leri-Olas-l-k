{
 "cells": [
  {
   "cell_type": "code",
   "execution_count": 6,
   "metadata": {},
   "outputs": [
    {
     "name": "stdout",
     "output_type": "stream",
     "text": [
      "Zarın 2 ve paranın tura gelme olasılğı =0.08333333333333333\n"
     ]
    }
   ],
   "source": [
    "#Koşullu  Olasılık:\n",
    "#Soru: Bir zar ve bir madeni para havaya atılıyor. Budurumda;\n",
    "#Zarın 2 ve paranın tura gelme olasılğı kaçtır.\n",
    "\n",
    "# Zarın 2 gelme olasılığı :1/6 dır. P(A) dersek.\n",
    "#Madeni paranın tura gelme olasılığı ise 1/2 dir.  P(B) dersek\n",
    "#İki olasılığın bir arada olma olasılığı ise P(A n B)= P(A).P(B) dir;\n",
    "\n",
    "# P(A)=1/6\n",
    "#P(B)=1/2\n",
    "#P(A n B)= P(A).P(B) = 1/6 . 1/2 = 1/12 dir.\n",
    "\n",
    "PA = 1/6\n",
    "PB = 1/2\n",
    "PAnB = 1/6 * 1/2\n",
    "\n",
    "print (\"Zarın 2 ve paranın tura gelme olasılğı =\" + str(PAnB))\n",
    "\n"
   ]
  },
  {
   "cell_type": "code",
   "execution_count": 9,
   "metadata": {},
   "outputs": [
    {
     "name": "stdout",
     "output_type": "stream",
     "text": [
      "Zarın 2 veya paranın tura gelme olasılğı =0.5833333333333333\n"
     ]
    }
   ],
   "source": [
    "#Zarın 2 veya paranın tura gelme olasılğı kaçtır.\n",
    "# P(A)=1/6\n",
    "#P(B)=1/2\n",
    "#P(A n B)= P(A).P(B) = 1/6 . 1/2 = 1/12 dir.\n",
    "#Sonuç= P(A) + P(B) - P(AnB)\n",
    "\n",
    "PA = 1/6\n",
    "PB = 1/2\n",
    "PAnB = 1/6 * 1/2\n",
    "sonuc= PA+PB-PAnB\n",
    "\n",
    "\n",
    "print (\"Zarın 2 veya paranın tura gelme olasılğı =\" + str(sonuc))\n"
   ]
  },
  {
   "cell_type": "code",
   "execution_count": 10,
   "metadata": {},
   "outputs": [
    {
     "name": "stdout",
     "output_type": "stream",
     "text": [
      "Figür yuvarlak olduğuna göre, kırmızı  olma ihtimali = 0.20833333333333334\n"
     ]
    }
   ],
   "source": [
    "#Soru2:\n",
    "#Çantada 42 adet yuvarlak ve oval figür var. Bu figürlerin 18i oval şeklindedir. Oval figürlerin 4ü, yuvarlakların ise\n",
    "#5i kırmızı renktedir. Çantadan rastgele seçilen bir yuvarlak figürün kırmızı olma ihtimali ne kadardır?\n",
    "\n",
    "#Çözüm\n",
    "\n",
    "#Yuvarlakların sayısı X(A) = 42-18=24 .\n",
    "\n",
    "#Kırmızı Figürler X(B) = 4 + 5 = 9 .\n",
    "\n",
    "#Kırmızı Yuvarlak Figür Sayısı X=5 .\n",
    "\n",
    "#P(B\\A) = 5/24\n",
    "\n",
    "XA = 24 #Yuvarlakların sayısı\n",
    "XB = 9 #Kırmızı figür sayısı\n",
    "XAnB = 5 #Kırmızı Yuvarlak Figür Sayısı\n",
    "\n",
    "# A koşullu B nin olasılığı:\n",
    "pBkA = XAnB / XA\n",
    "\n",
    "print(\"Figür yuvarlak olduğuna göre, kırmızı  olma ihtimali = \" + str(pBkA))\n"
   ]
  },
  {
   "cell_type": "code",
   "execution_count": null,
   "metadata": {},
   "outputs": [],
   "source": []
  }
 ],
 "metadata": {
  "kernelspec": {
   "display_name": "Python 3",
   "language": "python",
   "name": "python3"
  },
  "language_info": {
   "codemirror_mode": {
    "name": "ipython",
    "version": 3
   },
   "file_extension": ".py",
   "mimetype": "text/x-python",
   "name": "python",
   "nbconvert_exporter": "python",
   "pygments_lexer": "ipython3",
   "version": "3.7.3"
  }
 },
 "nbformat": 4,
 "nbformat_minor": 2
}
