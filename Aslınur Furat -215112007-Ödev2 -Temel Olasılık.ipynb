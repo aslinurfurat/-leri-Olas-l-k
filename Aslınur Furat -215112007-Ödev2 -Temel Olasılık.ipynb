{
 "cells": [
  {
   "cell_type": "code",
   "execution_count": 14,
   "metadata": {},
   "outputs": [
    {
     "name": "stdout",
     "output_type": "stream",
     "text": [
      "Yazı gelme ihtimali: 52.5\n",
      "Tura gelme ihtimali: 47.5\n"
     ]
    }
   ],
   "source": [
    "#Temel Olasılık\n",
    "\n",
    "#Yazı Tura Problemi\n",
    "\n",
    "#Soru1:\n",
    "\n",
    "#Bir madeni para havaya 1000 kere atıldığında yazı veya tura gelme olasılığını hesaplayın.\n",
    "\n",
    "#Seçim fonksiyonu ile çözümü\n",
    "\n",
    "from random import randint, choice\n",
    "yazi, tura = 0, 0\n",
    "para = [\"Yazi\", \"Tura\"]\n",
    "for i in range(1000): #1000 kere deniyoruz\n",
    "  a = choice(para)\n",
    "  if a == \"Yazi\":\n",
    "    yazi += 1\n",
    "  if a == \"Tura\":\n",
    "    tura += 1\n",
    "\n",
    "print(\"Yazı gelme ihtimali:\", 100 * yazi / 1000)\n",
    "print(\"Tura gelme ihtimali:\", 100 * tura / 1000)"
   ]
  },
  {
   "cell_type": "code",
   "execution_count": null,
   "metadata": {},
   "outputs": [],
   "source": []
  },
  {
   "cell_type": "code",
   "execution_count": null,
   "metadata": {},
   "outputs": [],
   "source": []
  }
 ],
 "metadata": {
  "kernelspec": {
   "display_name": "Python 3",
   "language": "python",
   "name": "python3"
  },
  "language_info": {
   "codemirror_mode": {
    "name": "ipython",
    "version": 3
   },
   "file_extension": ".py",
   "mimetype": "text/x-python",
   "name": "python",
   "nbconvert_exporter": "python",
   "pygments_lexer": "ipython3",
   "version": "3.7.3"
  }
 },
 "nbformat": 4,
 "nbformat_minor": 2
}
