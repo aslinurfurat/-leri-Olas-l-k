{
 "cells": [
  {
   "cell_type": "code",
   "execution_count": null,
   "metadata": {},
   "outputs": [],
   "source": [
    "#Permutasyon\n",
    "#Permütasyon \"P\" ile tanımlanır ve r tane elemandan oluşan permütasyon dizilişleri \"n'nin r'li permütasyonu\" olarak adlandırılır. Bu durumda n ve r birer doğal sayı ve r sayısı n'den küçük veya n'ye eşit (r≤n) kabul edilir.\n",
    "\n",
    "\n",
    "#Soru Permitasyon\n",
    "\n",
    "\n",
    "#5 arkadaş ön koltukları dolu arabada(3 boş koltuk) kaç farklı şekilde oturabilir?\n",
    "\n",
    "\n",
    "\n",
    "#**Çözümü**\n",
    "\n",
    "\n"
   ]
  },
  {
   "cell_type": "code",
   "execution_count": 13,
   "metadata": {},
   "outputs": [
    {
     "name": "stdout",
     "output_type": "stream",
     "text": [
      "('Aslı', 'Betül', 'Merve')\n",
      "('Aslı', 'Betül', 'Seda')\n",
      "('Aslı', 'Betül', 'Emine')\n",
      "('Aslı', 'Merve', 'Betül')\n",
      "('Aslı', 'Merve', 'Seda')\n",
      "('Aslı', 'Merve', 'Emine')\n",
      "('Aslı', 'Seda', 'Betül')\n",
      "('Aslı', 'Seda', 'Merve')\n",
      "('Aslı', 'Seda', 'Emine')\n",
      "('Aslı', 'Emine', 'Betül')\n",
      "('Aslı', 'Emine', 'Merve')\n",
      "('Aslı', 'Emine', 'Seda')\n",
      "('Betül', 'Aslı', 'Merve')\n",
      "('Betül', 'Aslı', 'Seda')\n",
      "('Betül', 'Aslı', 'Emine')\n",
      "('Betül', 'Merve', 'Aslı')\n",
      "('Betül', 'Merve', 'Seda')\n",
      "('Betül', 'Merve', 'Emine')\n",
      "('Betül', 'Seda', 'Aslı')\n",
      "('Betül', 'Seda', 'Merve')\n",
      "('Betül', 'Seda', 'Emine')\n",
      "('Betül', 'Emine', 'Aslı')\n",
      "('Betül', 'Emine', 'Merve')\n",
      "('Betül', 'Emine', 'Seda')\n",
      "('Merve', 'Aslı', 'Betül')\n",
      "('Merve', 'Aslı', 'Seda')\n",
      "('Merve', 'Aslı', 'Emine')\n",
      "('Merve', 'Betül', 'Aslı')\n",
      "('Merve', 'Betül', 'Seda')\n",
      "('Merve', 'Betül', 'Emine')\n",
      "('Merve', 'Seda', 'Aslı')\n",
      "('Merve', 'Seda', 'Betül')\n",
      "('Merve', 'Seda', 'Emine')\n",
      "('Merve', 'Emine', 'Aslı')\n",
      "('Merve', 'Emine', 'Betül')\n",
      "('Merve', 'Emine', 'Seda')\n",
      "('Seda', 'Aslı', 'Betül')\n",
      "('Seda', 'Aslı', 'Merve')\n",
      "('Seda', 'Aslı', 'Emine')\n",
      "('Seda', 'Betül', 'Aslı')\n",
      "('Seda', 'Betül', 'Merve')\n",
      "('Seda', 'Betül', 'Emine')\n",
      "('Seda', 'Merve', 'Aslı')\n",
      "('Seda', 'Merve', 'Betül')\n",
      "('Seda', 'Merve', 'Emine')\n",
      "('Seda', 'Emine', 'Aslı')\n",
      "('Seda', 'Emine', 'Betül')\n",
      "('Seda', 'Emine', 'Merve')\n",
      "('Emine', 'Aslı', 'Betül')\n",
      "('Emine', 'Aslı', 'Merve')\n",
      "('Emine', 'Aslı', 'Seda')\n",
      "('Emine', 'Betül', 'Aslı')\n",
      "('Emine', 'Betül', 'Merve')\n",
      "('Emine', 'Betül', 'Seda')\n",
      "('Emine', 'Merve', 'Aslı')\n",
      "('Emine', 'Merve', 'Betül')\n",
      "('Emine', 'Merve', 'Seda')\n",
      "('Emine', 'Seda', 'Aslı')\n",
      "('Emine', 'Seda', 'Betül')\n",
      "('Emine', 'Seda', 'Merve')\n",
      "0\n"
     ]
    }
   ],
   "source": [
    "from itertools import permutations\n",
    "\n",
    "perm = permutations(['Aslı', 'Betül','Merve','Seda','Emine'], 3)\n",
    "\n",
    "for i in list(perm):\n",
    "    print (i)\n",
    "\n",
    "print(sum(1 for count in perm))\n",
    "\n"
   ]
  },
  {
   "cell_type": "code",
   "execution_count": null,
   "metadata": {},
   "outputs": [],
   "source": [
    "#Kombinasyon\n",
    "\n",
    "#Soru: 12 sporcudan 5 kişilik bir takım oluşturulacaktır bu takım kaç değişik biçimde oluşturulabilir?\n",
    "\n",
    "#Cevap:"
   ]
  },
  {
   "cell_type": "code",
   "execution_count": 4,
   "metadata": {},
   "outputs": [
    {
     "name": "stdout",
     "output_type": "stream",
     "text": [
      "792\n"
     ]
    }
   ],
   "source": [
    "from itertools import combinations\n",
    "\n",
    "comb = combinations(range(12),5)\n",
    "\n",
    "print(sum(1 for count in comb))"
   ]
  },
  {
   "cell_type": "code",
   "execution_count": null,
   "metadata": {},
   "outputs": [],
   "source": []
  }
 ],
 "metadata": {
  "kernelspec": {
   "display_name": "Python 3",
   "language": "python",
   "name": "python3"
  },
  "language_info": {
   "codemirror_mode": {
    "name": "ipython",
    "version": 3
   },
   "file_extension": ".py",
   "mimetype": "text/x-python",
   "name": "python",
   "nbconvert_exporter": "python",
   "pygments_lexer": "ipython3",
   "version": "3.7.3"
  }
 },
 "nbformat": 4,
 "nbformat_minor": 2
}
